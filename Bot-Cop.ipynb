{
 "cells": [
  {
   "cell_type": "code",
   "execution_count": 2,
   "metadata": {
    "ExecuteTime": {
     "end_time": "2020-05-03T16:14:10.023756Z",
     "start_time": "2020-05-03T16:14:10.018759Z"
    }
   },
   "outputs": [],
   "source": [
    "from bs4 import BeautifulSoup\n",
    "from multiprocessing import Process, Queue, Pool\n",
    "import threading\n",
    "import sys\n",
    "from lxml import html\n",
    "import requests\n",
    "import re\n",
    "import time\n",
    "import numbers\n",
    "\n",
    "from selenium import webdriver\n",
    "from selenium.webdriver.common.keys import Keys"
   ]
  },
  {
   "cell_type": "code",
   "execution_count": 9,
   "metadata": {
    "ExecuteTime": {
     "end_time": "2020-05-03T16:18:25.955646Z",
     "start_time": "2020-05-03T16:18:14.695993Z"
    }
   },
   "outputs": [],
   "source": [
    "chrome_options = webdriver.ChromeOptions(); \n",
    "chrome_options.add_experimental_option(\"excludeSwitches\", ['enable-automation']);\n",
    "driver = webdriver.Chrome(options=chrome_options); "
   ]
  },
  {
   "cell_type": "markdown",
   "metadata": {
    "heading_collapsed": true
   },
   "source": [
    "# PALACE"
   ]
  },
  {
   "cell_type": "markdown",
   "metadata": {
    "heading_collapsed": true,
    "hidden": true
   },
   "source": [
    "## Acquiring Product Links"
   ]
  },
  {
   "cell_type": "code",
   "execution_count": 18,
   "metadata": {
    "ExecuteTime": {
     "end_time": "2020-05-03T17:17:00.672980Z",
     "start_time": "2020-05-03T17:16:52.965779Z"
    },
    "hidden": true
   },
   "outputs": [],
   "source": [
    "url = 'https://shop.palaceskateboards.com/collections/t-shirts?page='\n",
    "# url = 'https://shop.palaceskateboards.com/collections/new?page='\n",
    "pages = ['1','2','3','4']\n",
    "\n",
    "# NEEDS TO BE INPUT BEFORE USE\n",
    "product_name2 = 'BASICALLY A T-SHIRT BLACK'\n",
    "product_name1 = 'BASICALLY A T-SHIRT WHITE'\n",
    "product_names = [product_name1] + [product_name2]\n",
    "\n",
    "product_links = []\n",
    "for i in pages:\n",
    "    for j in product_names:\n",
    "        code_count = len(j.split()) + 7\n",
    "        r = requests.get(url+i)\n",
    "\n",
    "        content = r.content\n",
    "        soup = BeautifulSoup(content)\n",
    "\n",
    "        for d in soup.findAll('div', attrs={'data-alpha': j}):\n",
    "            product_link = 'https://shop.palaceskateboards.com/products/' + str(d).split()[code_count][-14:-2]\n",
    "#             webbrowser.open(product_link)\n",
    "            product_links.append(product_link)"
   ]
  },
  {
   "cell_type": "code",
   "execution_count": 19,
   "metadata": {
    "ExecuteTime": {
     "end_time": "2020-05-03T17:17:00.681960Z",
     "start_time": "2020-05-03T17:17:00.675961Z"
    },
    "hidden": true
   },
   "outputs": [
    {
     "data": {
      "text/plain": [
       "['https://shop.palaceskateboards.com/products/tbfjue15vgdt',\n",
       " 'https://shop.palaceskateboards.com/products/b9s9jq7yx4rm',\n",
       " 'https://shop.palaceskateboards.com/products/5x2tieen2abu']"
      ]
     },
     "execution_count": 19,
     "metadata": {},
     "output_type": "execute_result"
    }
   ],
   "source": [
    "product_links = ['https://shop.palaceskateboards.com/products/tbfjue15vgdt'] + product_links\n",
    "product_links"
   ]
  },
  {
   "cell_type": "markdown",
   "metadata": {
    "heading_collapsed": true,
    "hidden": true
   },
   "source": [
    "## Adding To Cart"
   ]
  },
  {
   "cell_type": "code",
   "execution_count": 20,
   "metadata": {
    "ExecuteTime": {
     "end_time": "2020-05-03T17:17:25.719479Z",
     "start_time": "2020-05-03T17:17:00.684956Z"
    },
    "hidden": true
   },
   "outputs": [],
   "source": [
    "chrome_options = webdriver.ChromeOptions(); \n",
    "chrome_options.add_experimental_option(\"excludeSwitches\", ['enable-automation']);\n",
    "browser = webdriver.Chrome(options=chrome_options)\n",
    "for i in product_links:\n",
    "    browser.get(i)\n",
    "    button2 = browser.find_element_by_xpath('//*[@id=\"product-select\"]/option[2]')\n",
    "    button3 = browser.find_element_by_xpath('//*[@id=\"product-select\"]/option[3]')\n",
    "    button4 = browser.find_element_by_xpath('//*[@id=\"product-select\"]/option[4]')\n",
    "    cart = browser.find_element_by_name('button')\n",
    "    cart.click()\n",
    "    time.sleep(0.35)\n",
    "    button2.click()\n",
    "    cart.click()\n",
    "    time.sleep(0.35)\n",
    "    button3.click()\n",
    "    cart.click()\n",
    "    time.sleep(0.35)\n",
    "    button4.click()\n",
    "    cart.click()\n",
    "    time.sleep(0.35)\n",
    "    \n",
    "browser.get('https://shop.palaceskateboards.com/cart')\n",
    "browser.find_element_by_xpath('//*[@id=\"basket-right\"]/div[1]/label/div').click()\n",
    "browser.find_element_by_xpath('//*[@id=\"checkout\"]').click()\n",
    "\n",
    "email = browser.find_element_by_xpath('//*[@id=\"checkout_email\"]')\n",
    "name1 = browser.find_element_by_xpath('//*[@id=\"checkout_shipping_address_first_name\"]')\n",
    "name2 = browser.find_element_by_xpath('//*[@id=\"checkout_shipping_address_last_name\"]')\n",
    "street = browser.find_element_by_xpath('//*[@id=\"checkout_shipping_address_address1\"]')\n",
    "building = browser.find_element_by_xpath('//*[@id=\"checkout_shipping_address_address2\"]')\n",
    "city = browser.find_element_by_xpath('//*[@id=\"checkout_shipping_address_city\"]')\n",
    "country = browser.find_element_by_xpath('//*[@id=\"checkout_shipping_address_country\"]/option[2]')   #click\n",
    "postcode = browser.find_element_by_xpath('//*[@id=\"checkout_shipping_address_zip\"]')\n",
    "number = browser.find_element_by_xpath('//*[@id=\"checkout_shipping_address_phone\"]')\n",
    "\n",
    "email.send_keys('songying7@yahoo.com')\n",
    "name1.send_keys('Song')\n",
    "name2.send_keys('Ho')\n",
    "street.send_keys('13 Aldensley Road')\n",
    "building.send_keys('Flat 4 Room 12')\n",
    "city.send_keys('London')\n",
    "country.click()\n",
    "postcode.send_keys('M17JA')\n",
    "number.send_keys('07399599180')"
   ]
  },
  {
   "cell_type": "markdown",
   "metadata": {
    "heading_collapsed": true,
    "hidden": true
   },
   "source": [
    "## Extra Scripts"
   ]
  },
  {
   "cell_type": "code",
   "execution_count": 37,
   "metadata": {
    "ExecuteTime": {
     "end_time": "2020-05-03T14:53:45.394691Z",
     "start_time": "2020-05-03T14:53:30.962249Z"
    },
    "hidden": true
   },
   "outputs": [],
   "source": [
    "# Select size and add to cart\n",
    "browser = webdriver.Chrome()\n",
    "for i in product_links:\n",
    "    browser.get(i)\n",
    "    button = browser.find_element_by_xpath('//*[@id=\"product-select\"]/option[4]')\n",
    "    cart = browser.find_element_by_name('button')\n",
    "    button.click()\n",
    "    cart.click()\n",
    "    time.sleep(0.12)\n",
    "browser.get('https://shop.palaceskateboards.com/cart')\n",
    "\n",
    "# htmlElem.send_keys(Keys.END)     # scrolls to bottom"
   ]
  },
  {
   "cell_type": "markdown",
   "metadata": {},
   "source": [
    "# Dover Street Market London"
   ]
  },
  {
   "cell_type": "code",
   "execution_count": 17,
   "metadata": {
    "ExecuteTime": {
     "end_time": "2020-05-03T16:45:01.536279Z",
     "start_time": "2020-05-03T16:44:53.598491Z"
    }
   },
   "outputs": [],
   "source": [
    "url = 'https://shop.doverstreetmarket.com/shops/palace-skateboards'\n",
    "# url = 'https://shop.doverstreetmarket.com/customer/account/login/referer/aHR0cHM6Ly9zaG9wLmRvdmVyc3RyZWV0bWFya2V0LmNvbS8'\n",
    "\n",
    "# NEEDS TO BE INPUT BEFORE USE\n",
    "# product_name2 = 'BASICALLY A T-SHIRT BLACK'\n",
    "# product_name1 = 'BASICALLY A T-SHIRT WHITE'\n",
    "# product_names = [product_name1] + [product_name2]\n",
    "\n",
    "chrome_options = webdriver.ChromeOptions(); \n",
    "chrome_options.add_experimental_option(\"excludeSwitches\", ['enable-automation']);\n",
    "browser = webdriver.Chrome(options=chrome_options)\n",
    "browser.get(url)\n",
    "# email = browser.find_element_by_xpath('//*[@id=\"email\"]')\n",
    "# email.send_keys('songying.ho7@gmail.com')\n",
    "# password = browser.find_element_by_xpath('//*[@id=\"pass\"]')\n",
    "# password.send_keys('Manvswild07!')\n",
    "# submit = browser.find_element_by_xpath('//*[@id=\"send2\"]')\n",
    "# submit.click()"
   ]
  },
  {
   "cell_type": "code",
   "execution_count": null,
   "metadata": {},
   "outputs": [],
   "source": []
  }
 ],
 "metadata": {
  "kernelspec": {
   "display_name": "Python 3",
   "language": "python",
   "name": "python3"
  },
  "language_info": {
   "codemirror_mode": {
    "name": "ipython",
    "version": 3
   },
   "file_extension": ".py",
   "mimetype": "text/x-python",
   "name": "python",
   "nbconvert_exporter": "python",
   "pygments_lexer": "ipython3",
   "version": "3.7.4"
  },
  "toc": {
   "base_numbering": 1,
   "nav_menu": {},
   "number_sections": true,
   "sideBar": true,
   "skip_h1_title": false,
   "title_cell": "Table of Contents",
   "title_sidebar": "Contents",
   "toc_cell": false,
   "toc_position": {},
   "toc_section_display": true,
   "toc_window_display": false
  }
 },
 "nbformat": 4,
 "nbformat_minor": 2
}
